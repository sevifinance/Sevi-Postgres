{
 "cells": [
  {
   "cell_type": "markdown",
   "metadata": {},
   "source": [
    "# Comparing the various table sampling approaches\n",
    "\n",
    "\n",
    "With the `fake_*()` function, we need to pick a random line inside the fake table. We need to do it fast."
   ]
  },
  {
   "cell_type": "markdown",
   "metadata": {},
   "source": [
    "## Requirements\n",
    "\n",
    "This notebook requires a `createdb pg_anonymizer_dev_notes --owner jupyter ` owned by a `jupyter` role in a PostgreSQL database\n",
    "\n",
    "```bash\n",
    "$ createuser jupyter --password\n",
    "$ createdb pg_anonymizer_dev_notes --owner jupyter  \n",
    "```"
   ]
  },
  {
   "cell_type": "code",
   "execution_count": 61,
   "metadata": {},
   "outputs": [],
   "source": [
    "%reload_ext sql\n",
    "%sql postgresql://jupyter@localhost/pg_anonymizer_dev_notes\n",
    "\n"
   ]
  },
  {
   "cell_type": "markdown",
   "metadata": {},
   "source": [
    "## Create a test table\n",
    "\n",
    "\n",
    "\n"
   ]
  },
  {
   "cell_type": "code",
   "execution_count": 64,
   "metadata": {
    "scrolled": true
   },
   "outputs": [
    {
     "name": "stdout",
     "output_type": "stream",
     "text": [
      " * postgresql://jupyter@localhost/pg_anonymizer_dev_notes\n",
      "Done.\n",
      "Done.\n",
      "Done.\n",
      "1000 rows affected.\n",
      "Done.\n",
      "(psycopg2.errors.UndefinedObject) there is no previously clustered index for table \"email\"\n",
      "\n",
      "[SQL: CLUSTER anon.email;]\n",
      "(Background on this error at: http://sqlalche.me/e/13/f405)\n"
     ]
    }
   ],
   "source": [
    "%%sql\n",
    "\n",
    "CREATE SCHEMA IF NOT EXISTS anon;\n",
    "\n",
    "DROP TABLE IF EXISTS anon.email;\n",
    "CREATE TABLE anon.email(\n",
    "    oid SERIAL,\n",
    "    address TEXT\n",
    ");\n",
    "\n",
    "INSERT INTO anon.email(address)\n",
    " SELECT md5(random()::TEXT) \n",
    " FROM generate_series(1,1000);\n",
    "\n",
    "CREATE INDEX ON anon.email(oid); \n",
    "CLUSTER anon.email;"
   ]
  },
  {
   "cell_type": "markdown",
   "metadata": {},
   "source": [
    "## With tsm_system_rows\n",
    "\n",
    "This is first implementation was based on tsm_system_rows.\n",
    "\n",
    "This method is fast but it has a \"clustering effect\" on small datasets\n",
    "\n",
    "https://www.postgresql.org/docs/current/tsm-system-rows.html"
   ]
  },
  {
   "cell_type": "code",
   "execution_count": 65,
   "metadata": {},
   "outputs": [
    {
     "name": "stdout",
     "output_type": "stream",
     "text": [
      " * postgresql://jupyter@localhost/pg_anonymizer_dev_notes\n",
      "Done.\n"
     ]
    },
    {
     "data": {
      "text/plain": [
       "[]"
      ]
     },
     "execution_count": 65,
     "metadata": {},
     "output_type": "execute_result"
    }
   ],
   "source": [
    "%%sql\n",
    "-- CREATE EXTENSION IF NOT EXISTS tsm_system_rows SCHEMA anon;\n",
    "\n",
    "CREATE OR REPLACE FUNCTION anon.fake_email_tsm_system_rows()\n",
    "RETURNS TEXT AS $$                                                                                                                                                        \n",
    "  SELECT address \n",
    "  FROM anon.email\n",
    "  TABLESAMPLE anon.system_rows(1);\n",
    "$$\n",
    "LANGUAGE SQL VOLATILE SECURITY INVOKER SET search_path='';\n",
    " "
   ]
  },
  {
   "cell_type": "code",
   "execution_count": 66,
   "metadata": {},
   "outputs": [
    {
     "name": "stdout",
     "output_type": "stream",
     "text": [
      " * postgresql://jupyter@localhost/pg_anonymizer_dev_notes\n",
      "1 rows affected.\n",
      "CPU times: user 4.05 ms, sys: 5.45 ms, total: 9.5 ms\n",
      "Wall time: 4.93 s\n"
     ]
    },
    {
     "data": {
      "text/html": [
       "<table>\n",
       "    <tr>\n",
       "        <th>count</th>\n",
       "    </tr>\n",
       "    <tr>\n",
       "        <td>9</td>\n",
       "    </tr>\n",
       "</table>"
      ],
      "text/plain": [
       "[(9,)]"
      ]
     },
     "execution_count": 66,
     "metadata": {},
     "output_type": "execute_result"
    }
   ],
   "source": [
    "%%time\n",
    "%%sql\n",
    "SELECT count(DISTINCT anon.fake_email_tsm_system_rows()) \n",
    "FROM generate_series(1,100000); \n",
    "\n"
   ]
  },
  {
   "cell_type": "markdown",
   "metadata": {},
   "source": [
    "## With tsm_system\n",
    "\n",
    "This is the standard sampling method."
   ]
  },
  {
   "cell_type": "code",
   "execution_count": 67,
   "metadata": {},
   "outputs": [
    {
     "name": "stdout",
     "output_type": "stream",
     "text": [
      " * postgresql://jupyter@localhost/pg_anonymizer_dev_notes\n",
      "Done.\n"
     ]
    },
    {
     "data": {
      "text/plain": [
       "[]"
      ]
     },
     "execution_count": 67,
     "metadata": {},
     "output_type": "execute_result"
    }
   ],
   "source": [
    "%%sql                                                                                                                 \n",
    "CREATE OR REPLACE FUNCTION anon.fake_email_tsm_system()                                                                                                                                  \n",
    "RETURNS TEXT AS $$\n",
    "    SELECT address\n",
    "    FROM anon.email\n",
    "    TABLESAMPLE SYSTEM(50) LIMIT 1;\n",
    "$$\n",
    "LANGUAGE SQL VOLATILE SECURITY INVOKER SET search_path='';     "
   ]
  },
  {
   "cell_type": "code",
   "execution_count": 68,
   "metadata": {},
   "outputs": [
    {
     "name": "stdout",
     "output_type": "stream",
     "text": [
      " * postgresql://jupyter@localhost/pg_anonymizer_dev_notes\n",
      "1 rows affected.\n",
      "CPU times: user 0 ns, sys: 9.12 ms, total: 9.12 ms\n",
      "Wall time: 5 s\n"
     ]
    },
    {
     "data": {
      "text/html": [
       "<table>\n",
       "    <tr>\n",
       "        <th>count</th>\n",
       "    </tr>\n",
       "    <tr>\n",
       "        <td>9</td>\n",
       "    </tr>\n",
       "</table>"
      ],
      "text/plain": [
       "[(9,)]"
      ]
     },
     "execution_count": 68,
     "metadata": {},
     "output_type": "execute_result"
    }
   ],
   "source": [
    "%%time\n",
    "%%sql\n",
    "SELECT count(DISTINCT anon.fake_email_tsm_system()) \n",
    "FROM generate_series(1,100000); "
   ]
  },
  {
   "cell_type": "markdown",
   "metadata": {},
   "source": [
    "## With random_and_max\n",
    "\n",
    "This is the classique way to do this"
   ]
  },
  {
   "cell_type": "code",
   "execution_count": 69,
   "metadata": {},
   "outputs": [
    {
     "name": "stdout",
     "output_type": "stream",
     "text": [
      " * postgresql://jupyter@localhost/pg_anonymizer_dev_notes\n",
      "Done.\n"
     ]
    },
    {
     "data": {
      "text/plain": [
       "[]"
      ]
     },
     "execution_count": 69,
     "metadata": {},
     "output_type": "execute_result"
    }
   ],
   "source": [
    "\n",
    "%%sql\n",
    "\n",
    "CREATE OR REPLACE FUNCTION anon.fake_email_random_and_max()                                                                                                                                  \n",
    "RETURNS TEXT AS $$\n",
    "    WITH random AS (\n",
    "        SELECT (random()*max(oid)+1)::INT AS oid\n",
    "        FROM anon.email\n",
    "    )\n",
    "    SELECT address\n",
    "    FROM anon.email e\n",
    "    JOIN random r ON e.oid=r.oid                                                                                                                                                           ;                                                                                                               \n",
    "$$\n",
    "LANGUAGE SQL VOLATILE SECURITY INVOKER SET search_path='';                                                                                                                     \n",
    "                                                              "
   ]
  },
  {
   "cell_type": "code",
   "execution_count": 70,
   "metadata": {},
   "outputs": [
    {
     "name": "stdout",
     "output_type": "stream",
     "text": [
      " * postgresql://jupyter@localhost/pg_anonymizer_dev_notes\n",
      "1 rows affected.\n",
      "CPU times: user 8.33 ms, sys: 1.21 ms, total: 9.54 ms\n",
      "Wall time: 13.5 s\n"
     ]
    },
    {
     "data": {
      "text/html": [
       "<table>\n",
       "    <tr>\n",
       "        <th>count</th>\n",
       "    </tr>\n",
       "    <tr>\n",
       "        <td>1000</td>\n",
       "    </tr>\n",
       "</table>"
      ],
      "text/plain": [
       "[(1000,)]"
      ]
     },
     "execution_count": 70,
     "metadata": {},
     "output_type": "execute_result"
    }
   ],
   "source": [
    "%%time\n",
    "%%sql\n",
    "SELECT count(DISTINCT anon.fake_email_random_and_max()) \n",
    "FROM generate_series(1,100000); "
   ]
  },
  {
   "cell_type": "markdown",
   "metadata": {},
   "source": [
    "## With Last Value\n",
    "\n",
    "Try to avoid the `max()` aggregate function by using the sequence.\n",
    "\n",
    "**For now, this is the best tradeoff**"
   ]
  },
  {
   "cell_type": "code",
   "execution_count": 71,
   "metadata": {},
   "outputs": [
    {
     "name": "stdout",
     "output_type": "stream",
     "text": [
      " * postgresql://jupyter@localhost/pg_anonymizer_dev_notes\n",
      "Done.\n"
     ]
    },
    {
     "data": {
      "text/plain": [
       "[]"
      ]
     },
     "execution_count": 71,
     "metadata": {},
     "output_type": "execute_result"
    }
   ],
   "source": [
    "%%sql\n",
    "\n",
    "CREATE OR REPLACE FUNCTION anon.fake_email_last_value()\n",
    "RETURNS TEXT AS $$\n",
    "    WITH random AS (\n",
    "        SELECT (random()*last_value+1)::INT AS oid\n",
    "        FROM anon.email_oid_seq\n",
    "    )\n",
    "    SELECT address\n",
    "    FROM anon.email e\n",
    "    JOIN random r ON e.oid=r.oid\n",
    "$$\n",
    "LANGUAGE SQL VOLATILE SECURITY INVOKER SET search_path=''; "
   ]
  },
  {
   "cell_type": "code",
   "execution_count": 74,
   "metadata": {},
   "outputs": [
    {
     "name": "stdout",
     "output_type": "stream",
     "text": [
      " * postgresql://jupyter@localhost/pg_anonymizer_dev_notes\n",
      "1 rows affected.\n",
      "CPU times: user 8.63 ms, sys: 805 µs, total: 9.44 ms\n",
      "Wall time: 9.06 s\n"
     ]
    },
    {
     "data": {
      "text/html": [
       "<table>\n",
       "    <tr>\n",
       "        <th>count</th>\n",
       "    </tr>\n",
       "    <tr>\n",
       "        <td>1000</td>\n",
       "    </tr>\n",
       "</table>"
      ],
      "text/plain": [
       "[(1000,)]"
      ]
     },
     "execution_count": 74,
     "metadata": {},
     "output_type": "execute_result"
    }
   ],
   "source": [
    "%%time\n",
    "%%sql\n",
    "SELECT count(DISTINCT anon.fake_email_last_value()) \n",
    "FROM generate_series(1,100000); "
   ]
  },
  {
   "cell_type": "markdown",
   "metadata": {},
   "source": [
    "## With ORDER BY\n",
    "\n",
    "The most naïve way to do it ! Even if the table is clustered on the oid column. The performances are horrible."
   ]
  },
  {
   "cell_type": "code",
   "execution_count": 78,
   "metadata": {},
   "outputs": [
    {
     "name": "stdout",
     "output_type": "stream",
     "text": [
      " * postgresql://jupyter@localhost/pg_anonymizer_dev_notes\n",
      "Done.\n"
     ]
    },
    {
     "data": {
      "text/plain": [
       "[]"
      ]
     },
     "execution_count": 78,
     "metadata": {},
     "output_type": "execute_result"
    }
   ],
   "source": [
    "%%sql\n",
    "\n",
    "CREATE OR REPLACE FUNCTION anon.fake_email_order_by()\n",
    "RETURNS TEXT AS $$\n",
    "    SELECT address\n",
    "    FROM anon.email\n",
    "    ORDER BY random()\n",
    "    LIMIT 1;\n",
    "$$\n",
    "LANGUAGE SQL VOLATILE SECURITY INVOKER SET search_path=''; \n"
   ]
  },
  {
   "cell_type": "code",
   "execution_count": 79,
   "metadata": {},
   "outputs": [
    {
     "name": "stdout",
     "output_type": "stream",
     "text": [
      " * postgresql://jupyter@localhost/pg_anonymizer_dev_notes\n",
      "1 rows affected.\n",
      "CPU times: user 8.24 ms, sys: 5.34 ms, total: 13.6 ms\n",
      "Wall time: 1min 27s\n"
     ]
    },
    {
     "data": {
      "text/html": [
       "<table>\n",
       "    <tr>\n",
       "        <th>count</th>\n",
       "    </tr>\n",
       "    <tr>\n",
       "        <td>1000</td>\n",
       "    </tr>\n",
       "</table>"
      ],
      "text/plain": [
       "[(1000,)]"
      ]
     },
     "execution_count": 79,
     "metadata": {},
     "output_type": "execute_result"
    }
   ],
   "source": [
    "%%time\n",
    "%%sql\n",
    "SELECT count(DISTINCT anon.fake_email_order_by()) \n",
    "FROM generate_series(1,100000); "
   ]
  },
  {
   "cell_type": "markdown",
   "metadata": {},
   "source": [
    "## With Offset\n",
    "\n",
    "This is a bit better than ORDER BY, but still a bad idea"
   ]
  },
  {
   "cell_type": "code",
   "execution_count": 75,
   "metadata": {},
   "outputs": [
    {
     "name": "stdout",
     "output_type": "stream",
     "text": [
      " * postgresql://jupyter@localhost/pg_anonymizer_dev_notes\n",
      "Done.\n"
     ]
    },
    {
     "data": {
      "text/plain": [
       "[]"
      ]
     },
     "execution_count": 75,
     "metadata": {},
     "output_type": "execute_result"
    }
   ],
   "source": [
    "%%sql\n",
    "\n",
    "CREATE OR REPLACE FUNCTION anon.fake_email_offset()\n",
    "RETURNS TEXT AS $$\n",
    "    SELECT address\n",
    "    FROM anon.email\n",
    "    OFFSET floor(random()*(SELECT last_value FROM anon.email_oid_seq)+1)\n",
    "    LIMIT 1;\n",
    "$$\n",
    "LANGUAGE SQL VOLATILE SECURITY INVOKER SET search_path=''; \n"
   ]
  },
  {
   "cell_type": "code",
   "execution_count": 76,
   "metadata": {},
   "outputs": [
    {
     "name": "stdout",
     "output_type": "stream",
     "text": [
      " * postgresql://jupyter@localhost/pg_anonymizer_dev_notes\n",
      "1 rows affected.\n",
      "CPU times: user 3.83 ms, sys: 7.23 ms, total: 11.1 ms\n",
      "Wall time: 21.2 s\n"
     ]
    },
    {
     "data": {
      "text/html": [
       "<table>\n",
       "    <tr>\n",
       "        <th>count</th>\n",
       "    </tr>\n",
       "    <tr>\n",
       "        <td>999</td>\n",
       "    </tr>\n",
       "</table>"
      ],
      "text/plain": [
       "[(999,)]"
      ]
     },
     "execution_count": 76,
     "metadata": {},
     "output_type": "execute_result"
    }
   ],
   "source": [
    "%%time\n",
    "%%sql\n",
    "SELECT count(DISTINCT anon.fake_email_offset()) \n",
    "FROM generate_series(1,100000); "
   ]
  },
  {
   "cell_type": "markdown",
   "metadata": {},
   "source": [
    "## Links                                                                                                                                                                      \n",
    "                                                                                                                                                                               \n",
    "* <https://stackoverflow.com/questions/5297396/quick-random-row-selection-in-postgres/5298588#5298588>                                                                         \n",
    "* <https://blog.2ndquadrant.com/tablesample-in-postgresql-9-5-2/>                                                                                                              \n",
    "* <http://web.archive.org/web/20080214235745/http://www.powerpostgresql.com/Random_Aggregate>                                                                                  \n",
    "* <https://www.postgresql.org/docs/current/static/tsm-system-rows.html>         "
   ]
  }
 ],
 "metadata": {
  "kernelspec": {
   "display_name": "Python 3",
   "language": "python",
   "name": "python3"
  },
  "language_info": {
   "codemirror_mode": {
    "name": "ipython",
    "version": 3
   },
   "file_extension": ".py",
   "mimetype": "text/x-python",
   "name": "python",
   "nbconvert_exporter": "python",
   "pygments_lexer": "ipython3",
   "version": "3.8.2"
  }
 },
 "nbformat": 4,
 "nbformat_minor": 4
}
